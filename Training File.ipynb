{
 "cells": [
  {
   "cell_type": "code",
   "execution_count": 1,
   "metadata": {},
   "outputs": [],
   "source": [
    "import tensorflow as tf\n",
    "from tensorflow.keras.preprocessing.image import ImageDataGenerator"
   ]
  },
  {
   "cell_type": "code",
   "execution_count": 2,
   "metadata": {},
   "outputs": [],
   "source": [
    "datagen = ImageDataGenerator(rescale = 1/255, rotation_range=30, width_shift_range=0.1, height_shift_range=0.1,\n",
    "                             horizontal_flip=True, vertical_flip=True)"
   ]
  },
  {
   "cell_type": "code",
   "execution_count": 3,
   "metadata": {},
   "outputs": [],
   "source": [
    "train_data_dir = \"dataset/CASIA2/train\"\n",
    "valid_data_dir = \"dataset/CASIA2/valid\"\n",
    "img_width = 224\n",
    "img_height = 224\n",
    "batch_size = 32"
   ]
  },
  {
   "cell_type": "code",
   "execution_count": 4,
   "metadata": {},
   "outputs": [
    {
     "name": "stdout",
     "output_type": "stream",
     "text": [
      "Found 11353 images belonging to 2 classes.\n"
     ]
    }
   ],
   "source": [
    "train_gen = datagen.flow_from_directory(\n",
    "    train_data_dir,\n",
    "    target_size=(img_height, img_width),\n",
    "    batch_size=batch_size,\n",
    "    class_mode=\"binary\",\n",
    "    shuffle=True)\n",
    "\n",
    "step_size_train = train_gen.n // train_gen.batch_size"
   ]
  },
  {
   "cell_type": "code",
   "execution_count": 5,
   "metadata": {},
   "outputs": [
    {
     "name": "stdout",
     "output_type": "stream",
     "text": [
      "Found 1261 images belonging to 2 classes.\n"
     ]
    }
   ],
   "source": [
    "valid_gen = datagen.flow_from_directory(\n",
    "    valid_data_dir,\n",
    "    target_size=(img_height, img_width),\n",
    "    batch_size=batch_size,\n",
    "    class_mode=\"binary\",\n",
    "    shuffle=True)\n",
    "\n",
    "step_size_valid = valid_gen.n // valid_gen.batch_size"
   ]
  },
  {
   "cell_type": "code",
   "execution_count": 6,
   "metadata": {},
   "outputs": [
    {
     "name": "stdout",
     "output_type": "stream",
     "text": [
      "WARNING:tensorflow:From C:\\Users\\User\\Anaconda3\\lib\\site-packages\\tensorflow\\python\\ops\\resource_variable_ops.py:435: colocate_with (from tensorflow.python.framework.ops) is deprecated and will be removed in a future version.\n",
      "Instructions for updating:\n",
      "Colocations handled automatically by placer.\n",
      "WARNING:tensorflow:From C:\\Users\\User\\Anaconda3\\lib\\site-packages\\tensorflow\\python\\ops\\math_ops.py:3066: to_int32 (from tensorflow.python.ops.math_ops) is deprecated and will be removed in a future version.\n",
      "Instructions for updating:\n",
      "Use tf.cast instead.\n"
     ]
    }
   ],
   "source": [
    "model = tf.keras.models.load_model(\"Transfer_Model_52.h5\")"
   ]
  },
  {
   "cell_type": "code",
   "execution_count": 10,
   "metadata": {},
   "outputs": [],
   "source": [
    "epochs = 5"
   ]
  },
  {
   "cell_type": "code",
   "execution_count": 8,
   "metadata": {},
   "outputs": [
    {
     "name": "stdout",
     "output_type": "stream",
     "text": [
      "Epoch 1/8\n",
      "  8/355 [..............................] - ETA: 58:08 - loss: 0.3341 - acc: 0.8359"
     ]
    },
    {
     "name": "stderr",
     "output_type": "stream",
     "text": [
      "C:\\Users\\User\\Anaconda3\\lib\\site-packages\\PIL\\TiffImagePlugin.py:754: UserWarning: Possibly corrupt EXIF data.  Expecting to read 8 bytes but only got 2. Skipping tag 41487\n",
      "  \" Skipping tag %s\" % (size, len(data), tag))\n",
      "C:\\Users\\User\\Anaconda3\\lib\\site-packages\\PIL\\TiffImagePlugin.py:754: UserWarning: Possibly corrupt EXIF data.  Expecting to read 8 bytes but only got 0. Skipping tag 41988\n",
      "  \" Skipping tag %s\" % (size, len(data), tag))\n"
     ]
    },
    {
     "name": "stdout",
     "output_type": "stream",
     "text": [
      "40/40 [==============================] - 65s 2s/step - loss: 0.2730 - acc: 0.8731\n",
      "355/355 [==============================] - 3138s 9s/step - loss: 0.2563 - acc: 0.8832 - val_loss: 0.2730 - val_acc: 0.8731\n",
      "Epoch 2/8\n",
      "40/40 [==============================] - 57s 1s/step - loss: 0.5581 - acc: 0.7898\n",
      "355/355 [==============================] - 3285s 9s/step - loss: 0.2219 - acc: 0.8975 - val_loss: 0.5581 - val_acc: 0.7898\n",
      "Epoch 3/8\n",
      "40/40 [==============================] - 64s 2s/step - loss: 0.3845 - acc: 0.8660\n",
      "355/355 [==============================] - 3247s 9s/step - loss: 0.2087 - acc: 0.9025 - val_loss: 0.3845 - val_acc: 0.8660\n",
      "Epoch 4/8\n",
      "40/40 [==============================] - 56s 1s/step - loss: 0.2186 - acc: 0.9009\n",
      "355/355 [==============================] - 3475s 10s/step - loss: 0.2031 - acc: 0.9040 - val_loss: 0.2186 - val_acc: 0.9009\n",
      "Epoch 5/8\n",
      "40/40 [==============================] - 58s 1s/step - loss: 0.2423 - acc: 0.8921\n",
      "355/355 [==============================] - 3334s 9s/step - loss: 0.2027 - acc: 0.9055 - val_loss: 0.2423 - val_acc: 0.8921\n",
      "Epoch 6/8\n",
      "40/40 [==============================] - 56s 1s/step - loss: 0.2419 - acc: 0.8850\n",
      "355/355 [==============================] - 3128s 9s/step - loss: 0.2057 - acc: 0.9045 - val_loss: 0.2419 - val_acc: 0.8850\n",
      "Epoch 7/8\n",
      "40/40 [==============================] - 57s 1s/step - loss: 0.3352 - acc: 0.8081\n",
      "355/355 [==============================] - 3145s 9s/step - loss: 0.2039 - acc: 0.9050 - val_loss: 0.3352 - val_acc: 0.8081\n",
      "Epoch 8/8\n",
      "40/40 [==============================] - 65s 2s/step - loss: 0.2055 - acc: 0.8961\n",
      "355/355 [==============================] - 3258s 9s/step - loss: 0.1968 - acc: 0.9080 - val_loss: 0.2055 - val_acc: 0.8961\n"
     ]
    },
    {
     "data": {
      "text/plain": [
       "<tensorflow.python.keras.callbacks.History at 0x2689ca457f0>"
      ]
     },
     "execution_count": 8,
     "metadata": {},
     "output_type": "execute_result"
    }
   ],
   "source": [
    "model.fit_generator(generator=train_gen,\n",
    "                    steps_per_epoch=step_size_train,\n",
    "                    validation_data=valid_gen,\n",
    "                    validation_steps=step_size_valid,\n",
    "                    epochs=epochs\n",
    ")"
   ]
  },
  {
   "cell_type": "code",
   "execution_count": 9,
   "metadata": {},
   "outputs": [],
   "source": [
    "model.save('Transfer_Model_60.h5')"
   ]
  },
  {
   "cell_type": "code",
   "execution_count": null,
   "metadata": {},
   "outputs": [],
   "source": []
  },
  {
   "cell_type": "code",
   "execution_count": null,
   "metadata": {},
   "outputs": [],
   "source": []
  },
  {
   "cell_type": "code",
   "execution_count": 16,
   "metadata": {},
   "outputs": [],
   "source": [
    "import cv2\n",
    "import tensorflow as tf\n",
    "import numpy as np\n",
    "from glob import glob "
   ]
  },
  {
   "cell_type": "code",
   "execution_count": 17,
   "metadata": {},
   "outputs": [],
   "source": [
    "CATEGORIES = [\"original\", \"spliced\"]\n",
    "IMG_WIDTH = 224\n",
    "IMG_HEIGHT = 224\n",
    "NUM_CHANNELS = 3\n",
    "\n",
    "def preprocess(path):\n",
    "    img_array = cv2.imread(path)\n",
    "    new_array = cv2.resize(img_array, (IMG_WIDTH, IMG_HEIGHT))\n",
    "    b,g,r= cv2.split(new_array)\n",
    "    new_array = cv2.merge((r,g,b))\n",
    "    x = [new_array]    \n",
    "    x = np.array(x).reshape(-1, IMG_WIDTH, IMG_HEIGHT, NUM_CHANNELS) / 255\n",
    "    return x\n"
   ]
  },
  {
   "cell_type": "code",
   "execution_count": 18,
   "metadata": {},
   "outputs": [
    {
     "name": "stdout",
     "output_type": "stream",
     "text": [
      "[[0.6528339]]\n"
     ]
    }
   ],
   "source": [
    "prediction = model.predict(preprocess(\"./Manual_Test_Images/original/trump.jpg\"))\n",
    "\n",
    "print(prediction)"
   ]
  },
  {
   "cell_type": "code",
   "execution_count": null,
   "metadata": {},
   "outputs": [],
   "source": []
  },
  {
   "cell_type": "code",
   "execution_count": null,
   "metadata": {},
   "outputs": [],
   "source": []
  },
  {
   "cell_type": "code",
   "execution_count": null,
   "metadata": {},
   "outputs": [],
   "source": []
  },
  {
   "cell_type": "code",
   "execution_count": null,
   "metadata": {},
   "outputs": [],
   "source": []
  },
  {
   "cell_type": "code",
   "execution_count": null,
   "metadata": {},
   "outputs": [],
   "source": []
  },
  {
   "cell_type": "code",
   "execution_count": null,
   "metadata": {},
   "outputs": [],
   "source": []
  },
  {
   "cell_type": "code",
   "execution_count": null,
   "metadata": {},
   "outputs": [],
   "source": []
  },
  {
   "cell_type": "code",
   "execution_count": null,
   "metadata": {},
   "outputs": [],
   "source": []
  },
  {
   "cell_type": "code",
   "execution_count": null,
   "metadata": {},
   "outputs": [],
   "source": []
  },
  {
   "cell_type": "code",
   "execution_count": null,
   "metadata": {},
   "outputs": [],
   "source": []
  },
  {
   "cell_type": "code",
   "execution_count": null,
   "metadata": {},
   "outputs": [],
   "source": []
  },
  {
   "cell_type": "code",
   "execution_count": null,
   "metadata": {},
   "outputs": [],
   "source": []
  },
  {
   "cell_type": "code",
   "execution_count": null,
   "metadata": {},
   "outputs": [],
   "source": []
  },
  {
   "cell_type": "code",
   "execution_count": null,
   "metadata": {},
   "outputs": [],
   "source": []
  },
  {
   "cell_type": "code",
   "execution_count": null,
   "metadata": {},
   "outputs": [],
   "source": []
  },
  {
   "cell_type": "code",
   "execution_count": null,
   "metadata": {},
   "outputs": [],
   "source": []
  },
  {
   "cell_type": "code",
   "execution_count": null,
   "metadata": {},
   "outputs": [],
   "source": []
  },
  {
   "cell_type": "code",
   "execution_count": null,
   "metadata": {},
   "outputs": [],
   "source": []
  },
  {
   "cell_type": "code",
   "execution_count": null,
   "metadata": {},
   "outputs": [],
   "source": []
  },
  {
   "cell_type": "code",
   "execution_count": null,
   "metadata": {},
   "outputs": [],
   "source": []
  },
  {
   "cell_type": "code",
   "execution_count": null,
   "metadata": {},
   "outputs": [],
   "source": []
  }
 ],
 "metadata": {
  "kernelspec": {
   "display_name": "Python 3",
   "language": "python",
   "name": "python3"
  },
  "language_info": {
   "codemirror_mode": {
    "name": "ipython",
    "version": 3
   },
   "file_extension": ".py",
   "mimetype": "text/x-python",
   "name": "python",
   "nbconvert_exporter": "python",
   "pygments_lexer": "ipython3",
   "version": "3.7.1"
  }
 },
 "nbformat": 4,
 "nbformat_minor": 2
}

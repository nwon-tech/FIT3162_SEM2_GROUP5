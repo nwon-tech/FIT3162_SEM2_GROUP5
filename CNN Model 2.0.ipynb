{
 "cells": [
  {
   "cell_type": "code",
   "execution_count": 1,
   "metadata": {},
   "outputs": [],
   "source": [
    "import tensorflow as tf\n",
    "from tensorflow.keras.models import Sequential\n",
    "from tensorflow.keras.layers import Dense, Dropout, Flatten, Conv2D, MaxPooling2D, BatchNormalization\n",
    "from tensorflow.keras.callbacks import EarlyStopping\n",
    "from tensorflow.keras.preprocessing.image import ImageDataGenerator\n",
    "from tensorflow.keras import optimizers\n",
    "\n",
    "import pickle\n",
    "import numpy as np\n",
    "from sklearn.model_selection import train_test_split"
   ]
  },
  {
   "cell_type": "code",
   "execution_count": 2,
   "metadata": {
    "scrolled": true
   },
   "outputs": [],
   "source": [
    "x = pickle.load(open(\"x.pickle\", \"rb\"))\n",
    "y = pickle.load(open(\"y.pickle\", \"rb\"))"
   ]
  },
  {
   "cell_type": "code",
   "execution_count": 3,
   "metadata": {},
   "outputs": [
    {
     "data": {
      "text/plain": [
       "(1721, 64, 64, 3)"
      ]
     },
     "execution_count": 3,
     "metadata": {},
     "output_type": "execute_result"
    }
   ],
   "source": [
    "x.shape"
   ]
  },
  {
   "cell_type": "code",
   "execution_count": 4,
   "metadata": {},
   "outputs": [],
   "source": [
    "def train_valid_test_split( x, y, train_size=0.7, test_size= 0.2, rand_seed=6789):\n",
    "    valid_size = 1 - (train_size + test_size)\n",
    "    \n",
    "    x1, x_test, y1, y_test = train_test_split(x, y, test_size = test_size, random_state= rand_seed)\n",
    "\n",
    "    x_train, x_valid, y_train, y_valid = train_test_split(x1, y1, test_size = float(valid_size)/(valid_size+ train_size))\n",
    "    \n",
    "    return (x_train, x_test, x_valid, y_train, y_test, y_valid)"
   ]
  },
  {
   "cell_type": "code",
   "execution_count": 5,
   "metadata": {},
   "outputs": [],
   "source": [
    "# Split data\n",
    "\n",
    "x_train, x_test, x_valid, y_train, y_test, y_valid = train_valid_test_split( x, y,\n",
    "                                                                            train_size=0.7,\n",
    "                                                                            test_size= 0.2,\n",
    "                                                                            rand_seed=67)\n"
   ]
  },
  {
   "cell_type": "code",
   "execution_count": 6,
   "metadata": {},
   "outputs": [],
   "source": [
    "generator = ImageDataGenerator(rotation_range=30, width_shift_range=0.2, height_shift_range=0.2, \n",
    "                               channel_shift_range=10, horizontal_flip=True)\n",
    "\n",
    "generator.fit(x_train)"
   ]
  },
  {
   "cell_type": "code",
   "execution_count": 7,
   "metadata": {
    "scrolled": true
   },
   "outputs": [
    {
     "name": "stdout",
     "output_type": "stream",
     "text": [
      "WARNING:tensorflow:From C:\\Users\\User\\Anaconda3\\lib\\site-packages\\tensorflow\\python\\ops\\resource_variable_ops.py:435: colocate_with (from tensorflow.python.framework.ops) is deprecated and will be removed in a future version.\n",
      "Instructions for updating:\n",
      "Colocations handled automatically by placer.\n",
      "WARNING:tensorflow:From C:\\Users\\User\\Anaconda3\\lib\\site-packages\\tensorflow\\python\\keras\\layers\\core.py:143: calling dropout (from tensorflow.python.ops.nn_ops) with keep_prob is deprecated and will be removed in a future version.\n",
      "Instructions for updating:\n",
      "Please use `rate` instead of `keep_prob`. Rate should be set to `rate = 1 - keep_prob`.\n",
      "Train on 1203 samples, validate on 173 samples\n",
      "WARNING:tensorflow:From C:\\Users\\User\\Anaconda3\\lib\\site-packages\\tensorflow\\python\\ops\\math_ops.py:3066: to_int32 (from tensorflow.python.ops.math_ops) is deprecated and will be removed in a future version.\n",
      "Instructions for updating:\n",
      "Use tf.cast instead.\n",
      "Epoch 1/50\n",
      "1203/1203 [==============================] - 1s 758us/sample - loss: 0.6923 - acc: 0.5287 - val_loss: 0.6931 - val_acc: 0.5087\n",
      "Epoch 2/50\n",
      "1203/1203 [==============================] - 0s 370us/sample - loss: 0.6912 - acc: 0.5436 - val_loss: 0.6938 - val_acc: 0.5087\n",
      "Epoch 3/50\n",
      "1203/1203 [==============================] - 0s 350us/sample - loss: 0.6903 - acc: 0.5428 - val_loss: 0.6944 - val_acc: 0.5087\n",
      "Epoch 4/50\n",
      "1203/1203 [==============================] - 0s 369us/sample - loss: 0.6901 - acc: 0.5428 - val_loss: 0.6942 - val_acc: 0.5087\n",
      "Epoch 5/50\n",
      "1203/1203 [==============================] - 0s 357us/sample - loss: 0.6901 - acc: 0.5428 - val_loss: 0.6939 - val_acc: 0.5087\n",
      "Epoch 6/50\n",
      "1203/1203 [==============================] - 0s 356us/sample - loss: 0.6899 - acc: 0.5428 - val_loss: 0.6938 - val_acc: 0.5087\n",
      "Epoch 7/50\n",
      "1203/1203 [==============================] - 0s 358us/sample - loss: 0.6891 - acc: 0.5428 - val_loss: 0.6934 - val_acc: 0.5087\n",
      "Epoch 8/50\n",
      "1203/1203 [==============================] - 0s 353us/sample - loss: 0.6881 - acc: 0.5428 - val_loss: 0.6937 - val_acc: 0.5087\n",
      "Epoch 9/50\n",
      "1203/1203 [==============================] - 0s 360us/sample - loss: 0.6892 - acc: 0.5428 - val_loss: 0.6920 - val_acc: 0.5087\n",
      "Epoch 10/50\n",
      "1203/1203 [==============================] - 0s 357us/sample - loss: 0.6881 - acc: 0.5428 - val_loss: 0.6922 - val_acc: 0.5087\n",
      "Epoch 11/50\n",
      "1203/1203 [==============================] - 0s 358us/sample - loss: 0.6874 - acc: 0.5428 - val_loss: 0.6916 - val_acc: 0.5087\n",
      "Epoch 12/50\n",
      "1203/1203 [==============================] - 0s 360us/sample - loss: 0.6853 - acc: 0.5428 - val_loss: 0.6922 - val_acc: 0.5087\n",
      "Epoch 13/50\n",
      "1203/1203 [==============================] - 0s 350us/sample - loss: 0.6850 - acc: 0.5428 - val_loss: 0.6887 - val_acc: 0.5087\n",
      "Epoch 14/50\n",
      "1203/1203 [==============================] - 0s 362us/sample - loss: 0.6800 - acc: 0.5428 - val_loss: 0.6976 - val_acc: 0.5087\n",
      "Epoch 15/50\n",
      "1203/1203 [==============================] - 0s 358us/sample - loss: 0.6827 - acc: 0.5453 - val_loss: 0.6868 - val_acc: 0.5087\n",
      "Epoch 16/50\n",
      "1203/1203 [==============================] - 0s 370us/sample - loss: 0.6770 - acc: 0.5594 - val_loss: 0.6851 - val_acc: 0.5549\n",
      "Epoch 17/50\n",
      "1203/1203 [==============================] - 0s 357us/sample - loss: 0.6785 - acc: 0.5686 - val_loss: 0.6861 - val_acc: 0.5607\n",
      "Epoch 18/50\n",
      "1203/1203 [==============================] - 0s 345us/sample - loss: 0.6745 - acc: 0.5669 - val_loss: 0.6863 - val_acc: 0.5549\n",
      "Epoch 19/50\n",
      "1203/1203 [==============================] - 0s 353us/sample - loss: 0.6732 - acc: 0.5877 - val_loss: 0.6859 - val_acc: 0.5260\n",
      "Epoch 20/50\n",
      "1203/1203 [==============================] - 0s 344us/sample - loss: 0.6718 - acc: 0.5719 - val_loss: 0.6905 - val_acc: 0.5491\n",
      "Epoch 21/50\n",
      "1203/1203 [==============================] - 0s 360us/sample - loss: 0.6722 - acc: 0.5835 - val_loss: 0.6897 - val_acc: 0.5260\n",
      "Epoch 22/50\n",
      "1203/1203 [==============================] - 0s 348us/sample - loss: 0.6665 - acc: 0.5910 - val_loss: 0.7017 - val_acc: 0.5260\n",
      "Epoch 23/50\n",
      "1203/1203 [==============================] - 0s 350us/sample - loss: 0.6704 - acc: 0.6010 - val_loss: 0.6908 - val_acc: 0.5491\n",
      "Epoch 24/50\n",
      "1203/1203 [==============================] - 0s 346us/sample - loss: 0.6635 - acc: 0.5952 - val_loss: 0.6880 - val_acc: 0.5318\n",
      "Epoch 25/50\n",
      "1203/1203 [==============================] - 0s 358us/sample - loss: 0.6641 - acc: 0.5935 - val_loss: 0.6933 - val_acc: 0.5318\n",
      "Epoch 26/50\n",
      "1203/1203 [==============================] - 0s 352us/sample - loss: 0.6662 - acc: 0.5927 - val_loss: 0.6933 - val_acc: 0.5318\n",
      "Epoch 27/50\n",
      "1203/1203 [==============================] - 0s 353us/sample - loss: 0.6673 - acc: 0.5877 - val_loss: 0.6917 - val_acc: 0.5145\n",
      "Epoch 28/50\n",
      "1203/1203 [==============================] - 0s 363us/sample - loss: 0.6661 - acc: 0.5993 - val_loss: 0.6957 - val_acc: 0.5202\n",
      "Epoch 29/50\n",
      "1203/1203 [==============================] - 0s 345us/sample - loss: 0.6588 - acc: 0.6060 - val_loss: 0.6974 - val_acc: 0.5260\n",
      "Epoch 30/50\n",
      "1203/1203 [==============================] - 0s 343us/sample - loss: 0.6588 - acc: 0.6118 - val_loss: 0.7091 - val_acc: 0.5260\n",
      "Epoch 31/50\n",
      "1203/1203 [==============================] - 0s 348us/sample - loss: 0.6578 - acc: 0.6135 - val_loss: 0.7006 - val_acc: 0.5202\n",
      "Epoch 32/50\n",
      "1203/1203 [==============================] - 0s 358us/sample - loss: 0.6575 - acc: 0.6226 - val_loss: 0.7228 - val_acc: 0.5491\n",
      "Epoch 33/50\n",
      "1203/1203 [==============================] - 0s 357us/sample - loss: 0.6637 - acc: 0.6126 - val_loss: 0.6997 - val_acc: 0.4740\n",
      "Epoch 34/50\n",
      "1203/1203 [==============================] - 0s 367us/sample - loss: 0.6506 - acc: 0.6284 - val_loss: 0.7043 - val_acc: 0.5434\n",
      "Epoch 35/50\n",
      "1203/1203 [==============================] - 0s 348us/sample - loss: 0.6565 - acc: 0.6318 - val_loss: 0.7058 - val_acc: 0.5434\n",
      "Epoch 36/50\n",
      "1203/1203 [==============================] - 0s 347us/sample - loss: 0.6539 - acc: 0.6234 - val_loss: 0.7080 - val_acc: 0.5202\n",
      "Epoch 37/50\n",
      "1203/1203 [==============================] - 0s 353us/sample - loss: 0.6496 - acc: 0.6268 - val_loss: 0.7114 - val_acc: 0.5318\n",
      "Epoch 38/50\n",
      "1203/1203 [==============================] - 0s 352us/sample - loss: 0.6485 - acc: 0.6434 - val_loss: 0.7137 - val_acc: 0.5260\n",
      "Epoch 39/50\n",
      "1203/1203 [==============================] - 0s 354us/sample - loss: 0.6411 - acc: 0.6442 - val_loss: 0.7136 - val_acc: 0.4855\n",
      "Epoch 40/50\n",
      "1203/1203 [==============================] - 0s 354us/sample - loss: 0.6476 - acc: 0.6384 - val_loss: 0.7387 - val_acc: 0.5318\n",
      "Epoch 41/50\n",
      "1203/1203 [==============================] - 0s 350us/sample - loss: 0.6490 - acc: 0.6367 - val_loss: 0.7176 - val_acc: 0.5087\n",
      "Epoch 42/50\n",
      "1203/1203 [==============================] - 0s 374us/sample - loss: 0.6383 - acc: 0.6434 - val_loss: 0.7242 - val_acc: 0.5087\n",
      "Epoch 43/50\n",
      "1203/1203 [==============================] - 0s 373us/sample - loss: 0.6464 - acc: 0.6209 - val_loss: 0.7246 - val_acc: 0.5260\n",
      "Epoch 44/50\n",
      "1203/1203 [==============================] - 0s 361us/sample - loss: 0.6310 - acc: 0.6509 - val_loss: 0.7260 - val_acc: 0.4855\n",
      "Epoch 45/50\n",
      "1203/1203 [==============================] - 0s 346us/sample - loss: 0.6383 - acc: 0.6517 - val_loss: 0.7402 - val_acc: 0.4971\n",
      "Epoch 46/50\n",
      "1203/1203 [==============================] - 0s 361us/sample - loss: 0.6259 - acc: 0.6692 - val_loss: 0.7416 - val_acc: 0.5318\n",
      "Epoch 47/50\n",
      "1203/1203 [==============================] - 0s 348us/sample - loss: 0.6322 - acc: 0.6542 - val_loss: 0.7378 - val_acc: 0.4566\n",
      "Epoch 48/50\n",
      "1203/1203 [==============================] - 0s 361us/sample - loss: 0.6309 - acc: 0.6658 - val_loss: 0.7439 - val_acc: 0.5145\n",
      "Epoch 49/50\n",
      "1203/1203 [==============================] - 0s 356us/sample - loss: 0.6312 - acc: 0.6542 - val_loss: 0.7372 - val_acc: 0.4971\n",
      "Epoch 50/50\n",
      "1203/1203 [==============================] - 0s 348us/sample - loss: 0.6178 - acc: 0.6692 - val_loss: 0.7586 - val_acc: 0.5145\n"
     ]
    },
    {
     "data": {
      "text/plain": [
       "<tensorflow.python.keras.callbacks.History at 0x261ca14fd30>"
      ]
     },
     "execution_count": 7,
     "metadata": {},
     "output_type": "execute_result"
    }
   ],
   "source": [
    "cnn_model=Sequential()\n",
    "\n",
    "cnn_model.add(Conv2D(input_shape=(64, 64, 3), filters=20, kernel_size=4, strides=2, padding='valid',\n",
    "         activation='relu',  data_format='channels_last'))\n",
    "\n",
    "cnn_model.add(Conv2D(filters=15, kernel_size=3, strides=1, padding='valid', activation='relu',\n",
    "          data_format='channels_last'))\n",
    "\n",
    "cnn_model.add(MaxPooling2D(pool_size=3, data_format='channels_last'))\n",
    "\n",
    "cnn_model.add(Conv2D(filters=20, kernel_size=4, strides=2, padding='valid', activation='relu',\n",
    "          data_format='channels_last'))\n",
    "\n",
    "cnn_model.add(MaxPooling2D(pool_size=2, data_format='channels_last'))\n",
    "\n",
    "# cnn_model.add(Conv2D(filters=15, kernel_size=2, strides=1, padding='valid', activation='relu',\n",
    "#                       data_format='channels_last'))\n",
    "\n",
    "# cnn_model.add(Conv2D(filters=16, kernel_size=3, strides=1, padding='valid', activation='relu',\n",
    "#                       data_format='channels_last'))\n",
    "\n",
    "# cnn_model.add(Conv2D(filters=16, kernel_size=3, strides=1, padding='valid', activation='relu',\n",
    "#                      kernel_initializer='he_normal', data_format='channels_last'))\n",
    "\n",
    "cnn_model.add(Flatten())\n",
    "\n",
    "cnn_model.add(Dropout(0.2))\n",
    "\n",
    "cnn_model.add(Dense(1, activation='sigmoid'))\n",
    "\n",
    "cnn_model.compile(optimizer='adam', loss='binary_crossentropy', metrics=['accuracy'])\n",
    "\n",
    "history = cnn_model.fit(x_train, y_train, batch_size=32, epochs=100, verbose=1,\n",
    "                validation_data=(x_valid, y_valid))\n"
   ]
  },
  {
   "cell_type": "code",
   "execution_count": 47,
   "metadata": {
    "scrolled": true
   },
   "outputs": [
    {
     "name": "stdout",
     "output_type": "stream",
     "text": [
      "2523/2523 [==============================] - 1s 232us/sample - loss: 0.6338 - acc: 0.6568\n"
     ]
    },
    {
     "data": {
      "text/plain": [
       "[0.6338149784247269, 0.65675783]"
      ]
     },
     "execution_count": 47,
     "metadata": {},
     "output_type": "execute_result"
    }
   ],
   "source": [
    "model.evaluate(x_test, y_test)"
   ]
  },
  {
   "cell_type": "code",
   "execution_count": 48,
   "metadata": {},
   "outputs": [],
   "source": [
    "model.save(\"Trained_Model.model\")"
   ]
  },
  {
   "cell_type": "code",
   "execution_count": null,
   "metadata": {},
   "outputs": [],
   "source": []
  },
  {
   "cell_type": "code",
   "execution_count": null,
   "metadata": {},
   "outputs": [],
   "source": []
  },
  {
   "cell_type": "code",
   "execution_count": null,
   "metadata": {},
   "outputs": [],
   "source": []
  },
  {
   "cell_type": "code",
   "execution_count": null,
   "metadata": {},
   "outputs": [],
   "source": []
  },
  {
   "cell_type": "code",
   "execution_count": null,
   "metadata": {},
   "outputs": [],
   "source": []
  },
  {
   "cell_type": "code",
   "execution_count": null,
   "metadata": {},
   "outputs": [],
   "source": []
  },
  {
   "cell_type": "code",
   "execution_count": null,
   "metadata": {},
   "outputs": [],
   "source": []
  },
  {
   "cell_type": "code",
   "execution_count": null,
   "metadata": {},
   "outputs": [],
   "source": []
  },
  {
   "cell_type": "code",
   "execution_count": null,
   "metadata": {},
   "outputs": [],
   "source": []
  },
  {
   "cell_type": "code",
   "execution_count": null,
   "metadata": {},
   "outputs": [],
   "source": []
  },
  {
   "cell_type": "code",
   "execution_count": null,
   "metadata": {},
   "outputs": [],
   "source": []
  }
 ],
 "metadata": {
  "kernelspec": {
   "display_name": "Python 3",
   "language": "python",
   "name": "python3"
  },
  "language_info": {
   "codemirror_mode": {
    "name": "ipython",
    "version": 3
   },
   "file_extension": ".py",
   "mimetype": "text/x-python",
   "name": "python",
   "nbconvert_exporter": "python",
   "pygments_lexer": "ipython3",
   "version": "3.7.1"
  }
 },
 "nbformat": 4,
 "nbformat_minor": 2
}

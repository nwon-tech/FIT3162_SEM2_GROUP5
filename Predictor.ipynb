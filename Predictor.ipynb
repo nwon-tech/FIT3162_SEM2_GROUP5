{
 "cells": [
  {
   "cell_type": "code",
   "execution_count": 1,
   "metadata": {},
   "outputs": [],
   "source": [
    "import cv2\n",
    "import tensorflow as tf\n",
    "import numpy as np\n",
    "from glob import glob "
   ]
  },
  {
   "cell_type": "code",
   "execution_count": 7,
   "metadata": {},
   "outputs": [],
   "source": [
    "CATEGORIES = [\"original\", \"spliced\"]\n",
    "IMG_WIDTH = 348\n",
    "IMG_HEIGHT = 256\n",
    "NUM_CHANNELS = 3\n",
    "\n",
    "def preprocess(path):\n",
    "    img_array = cv2.imread(path)\n",
    "    new_array = cv2.resize(img_array, (IMG_WIDTH, IMG_HEIGHT))\n",
    "    b,g,r= cv2.split(new_array)\n",
    "    new_array = cv2.merge((r,g,b))\n",
    "    x = [new_array]    \n",
    "    x = np.array(x).reshape(-1, IMG_WIDTH, IMG_HEIGHT, NUM_CHANNELS) / 255\n",
    "    return x\n"
   ]
  },
  {
   "cell_type": "code",
   "execution_count": 3,
   "metadata": {},
   "outputs": [
    {
     "name": "stdout",
     "output_type": "stream",
     "text": [
      "WARNING:tensorflow:From C:\\Users\\User\\Anaconda3\\lib\\site-packages\\tensorflow\\python\\ops\\resource_variable_ops.py:435: colocate_with (from tensorflow.python.framework.ops) is deprecated and will be removed in a future version.\n",
      "Instructions for updating:\n",
      "Colocations handled automatically by placer.\n",
      "WARNING:tensorflow:From C:\\Users\\User\\Anaconda3\\lib\\site-packages\\tensorflow\\python\\keras\\layers\\core.py:143: calling dropout (from tensorflow.python.ops.nn_ops) with keep_prob is deprecated and will be removed in a future version.\n",
      "Instructions for updating:\n",
      "Please use `rate` instead of `keep_prob`. Rate should be set to `rate = 1 - keep_prob`.\n",
      "WARNING:tensorflow:From C:\\Users\\User\\Anaconda3\\lib\\site-packages\\tensorflow\\python\\ops\\math_ops.py:3066: to_int32 (from tensorflow.python.ops.math_ops) is deprecated and will be removed in a future version.\n",
      "Instructions for updating:\n",
      "Use tf.cast instead.\n"
     ]
    }
   ],
   "source": [
    "model = tf.keras.models.load_model(\"Trained_Model.model\")"
   ]
  },
  {
   "cell_type": "code",
   "execution_count": 8,
   "metadata": {},
   "outputs": [
    {
     "name": "stdout",
     "output_type": "stream",
     "text": [
      "original\n"
     ]
    }
   ],
   "source": [
    "prediction = model.predict_classes(preprocess(\"./Manual_Test_Images/original/trump.jpg\"))\n",
    "\n",
    "print(CATEGORIES[prediction[0][0]])"
   ]
  },
  {
   "cell_type": "code",
   "execution_count": 9,
   "metadata": {
    "scrolled": true
   },
   "outputs": [
    {
     "name": "stdout",
     "output_type": "stream",
     "text": [
      "./Manual_Test_Images/original\\boy.jpg: original 0\n",
      "./Manual_Test_Images/original\\Broga Hill.JPG: spliced 1\n",
      "./Manual_Test_Images/original\\Dog.JPG: original 0\n",
      "./Manual_Test_Images/original\\flower.jpg: original 0\n",
      "./Manual_Test_Images/original\\fook.JPG: original 0\n",
      "./Manual_Test_Images/original\\lion.jpg: spliced 1\n",
      "./Manual_Test_Images/original\\logs.jpg: original 0\n",
      "./Manual_Test_Images/original\\marathon.jpg: spliced 1\n",
      "./Manual_Test_Images/original\\mike.jpg: original 0\n",
      "./Manual_Test_Images/original\\monash.jpg: spliced 1\n",
      "./Manual_Test_Images/original\\Pepegas.jpg: original 0\n",
      "./Manual_Test_Images/original\\tiananmen square ori.jpg: spliced 1\n",
      "./Manual_Test_Images/original\\trump.jpg: original 0\n",
      "./Manual_Test_Images/original\\ulu area.JPG: spliced 1\n",
      "14\n",
      "57.14285714285714\n"
     ]
    }
   ],
   "source": [
    "path = './Manual_Test_Images/original/*.jpg'\n",
    "\n",
    "j = 0\n",
    "img = glob(path)\n",
    "\n",
    "for i in range(0, len(img)):\n",
    "    prediction = model.predict_classes(preprocess(img[i]))\n",
    "    print(img[i] + \": \" + CATEGORIES[prediction[0][0]] + ' ' + str(prediction[0][0]))\n",
    "    \n",
    "    if round(prediction[0][0]) == 0:\n",
    "        j += 1\n",
    "        \n",
    "print(len(img))\n",
    "print(j / len(img) * 100)"
   ]
  },
  {
   "cell_type": "code",
   "execution_count": 10,
   "metadata": {},
   "outputs": [
    {
     "name": "stdout",
     "output_type": "stream",
     "text": [
      "./Manual_Test_Images/forged\\Broga Hill copy.jpg: spliced 1\n",
      "./Manual_Test_Images/forged\\Cats.jpg: original 0\n",
      "./Manual_Test_Images/forged\\fook copy.jpg: original 0\n",
      "./Manual_Test_Images/forged\\henrik.jpg: original 0\n",
      "./Manual_Test_Images/forged\\lion copy.jpg: spliced 1\n",
      "./Manual_Test_Images/forged\\mike copy.jpg: original 0\n",
      "./Manual_Test_Images/forged\\monash copy.jpg: spliced 1\n",
      "./Manual_Test_Images/forged\\rockets.jpg: spliced 1\n",
      "./Manual_Test_Images/forged\\tiananmen square copy.jpg: spliced 1\n",
      "./Manual_Test_Images/forged\\tree.jpg: spliced 1\n",
      "./Manual_Test_Images/forged\\trump copy.jpg: original 0\n",
      "11\n",
      "54.54545454545454\n"
     ]
    }
   ],
   "source": [
    "path = './Manual_Test_Images/forged/*.jpg'\n",
    "\n",
    "j = 0\n",
    "img = glob(path)\n",
    "\n",
    "for i in range(0, len(img)):\n",
    "    prediction = model.predict_classes([preprocess(img[i])])\n",
    "    print(img[i] + \": \" + CATEGORIES[prediction[0][0]] + ' ' + str(prediction[0][0]))\n",
    "    \n",
    "    if round(prediction[0][0]) == 1:\n",
    "        j += 1\n",
    "        \n",
    "print(len(img))\n",
    "print(j / len(img) * 100)"
   ]
  },
  {
   "cell_type": "code",
   "execution_count": null,
   "metadata": {},
   "outputs": [],
   "source": []
  },
  {
   "cell_type": "code",
   "execution_count": null,
   "metadata": {},
   "outputs": [],
   "source": []
  }
 ],
 "metadata": {
  "kernelspec": {
   "display_name": "Python 3",
   "language": "python",
   "name": "python3"
  },
  "language_info": {
   "codemirror_mode": {
    "name": "ipython",
    "version": 3
   },
   "file_extension": ".py",
   "mimetype": "text/x-python",
   "name": "python",
   "nbconvert_exporter": "python",
   "pygments_lexer": "ipython3",
   "version": "3.7.1"
  }
 },
 "nbformat": 4,
 "nbformat_minor": 2
}

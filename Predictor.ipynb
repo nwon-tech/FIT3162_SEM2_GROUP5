{
 "cells": [
  {
   "cell_type": "code",
   "execution_count": 18,
   "metadata": {},
   "outputs": [],
   "source": [
    "import cv2\n",
    "import tensorflow as tf\n",
    "import numpy as np\n",
    "from glob import glob "
   ]
  },
  {
   "cell_type": "code",
   "execution_count": 19,
   "metadata": {},
   "outputs": [],
   "source": [
    "CATEGORIES = [\"original\", \"spliced\"]\n",
    "IMG_SIZE = 64\n",
    "NUM_CHANNELS = 3\n",
    "\n",
    "def preprocess(path):\n",
    "    img_array = cv2.imread(path)\n",
    "    new_array = cv2.resize(img_array, (IMG_SIZE, IMG_SIZE))\n",
    "    b,g,r= cv2.split(new_array)\n",
    "    new_array = cv2.merge((r,g,b))\n",
    "    x = [new_array]    \n",
    "    x = np.array(x).reshape(-1, IMG_SIZE, IMG_SIZE, NUM_CHANNELS) / 255\n",
    "    return x\n"
   ]
  },
  {
   "cell_type": "code",
   "execution_count": 20,
   "metadata": {},
   "outputs": [
    {
     "name": "stdout",
     "output_type": "stream",
     "text": [
      "WARNING:tensorflow:From C:\\Users\\User\\Anaconda3\\lib\\site-packages\\tensorflow\\python\\keras\\layers\\core.py:143: calling dropout (from tensorflow.python.ops.nn_ops) with keep_prob is deprecated and will be removed in a future version.\n",
      "Instructions for updating:\n",
      "Please use `rate` instead of `keep_prob`. Rate should be set to `rate = 1 - keep_prob`.\n"
     ]
    }
   ],
   "source": [
    "model = tf.keras.models.load_model(\"Trained_Model.model\")"
   ]
  },
  {
   "cell_type": "code",
   "execution_count": 21,
   "metadata": {},
   "outputs": [
    {
     "name": "stdout",
     "output_type": "stream",
     "text": [
      "original\n"
     ]
    }
   ],
   "source": [
    "prediction = model.predict_classes(preprocess(\"./Manual_Test_Images/original/trump.jpg\"))\n",
    "\n",
    "print(CATEGORIES[prediction[0][0]])"
   ]
  },
  {
   "cell_type": "code",
   "execution_count": 22,
   "metadata": {
    "scrolled": true
   },
   "outputs": [
    {
     "name": "stdout",
     "output_type": "stream",
     "text": [
      "./Manual_Test_Images/original\\boy.jpg: original 0\n",
      "./Manual_Test_Images/original\\Broga Hill.JPG: spliced 1\n",
      "./Manual_Test_Images/original\\Dog.JPG: original 0\n",
      "./Manual_Test_Images/original\\flower.jpg: original 0\n",
      "./Manual_Test_Images/original\\fook.JPG: original 0\n",
      "./Manual_Test_Images/original\\lion.jpg: spliced 1\n",
      "./Manual_Test_Images/original\\logs.jpg: original 0\n",
      "./Manual_Test_Images/original\\marathon.jpg: spliced 1\n",
      "./Manual_Test_Images/original\\mike.jpg: spliced 1\n",
      "./Manual_Test_Images/original\\monash.jpg: original 0\n",
      "./Manual_Test_Images/original\\Pepegas.jpg: spliced 1\n",
      "./Manual_Test_Images/original\\tiananmen square ori.jpg: spliced 1\n",
      "./Manual_Test_Images/original\\trump.jpg: original 0\n",
      "./Manual_Test_Images/original\\ulu area.JPG: original 0\n",
      "14\n",
      "57.14285714285714\n"
     ]
    }
   ],
   "source": [
    "path = './Manual_Test_Images/original/*.jpg'\n",
    "\n",
    "j = 0\n",
    "img = glob(path)\n",
    "\n",
    "for i in range(0, len(img)):\n",
    "    prediction = model.predict_classes(preprocess(img[i]))\n",
    "    print(img[i] + \": \" + CATEGORIES[prediction[0][0]] + ' ' + str(prediction[0][0]))\n",
    "    \n",
    "    if round(prediction[0][0]) == 0:\n",
    "        j += 1\n",
    "        \n",
    "print(len(img))\n",
    "print(j / len(img) * 100)"
   ]
  },
  {
   "cell_type": "code",
   "execution_count": 23,
   "metadata": {},
   "outputs": [
    {
     "name": "stdout",
     "output_type": "stream",
     "text": [
      "./Manual_Test_Images/forged\\Broga Hill copy.jpg: spliced 1\n",
      "./Manual_Test_Images/forged\\Cats.jpg: original 0\n",
      "./Manual_Test_Images/forged\\fook copy.jpg: original 0\n",
      "./Manual_Test_Images/forged\\henrik.jpg: original 0\n",
      "./Manual_Test_Images/forged\\lion copy.jpg: spliced 1\n",
      "./Manual_Test_Images/forged\\mike copy.jpg: spliced 1\n",
      "./Manual_Test_Images/forged\\monash copy.jpg: original 0\n",
      "./Manual_Test_Images/forged\\rockets.jpg: original 0\n",
      "./Manual_Test_Images/forged\\tiananmen square copy.jpg: spliced 1\n",
      "./Manual_Test_Images/forged\\tree.jpg: spliced 1\n",
      "./Manual_Test_Images/forged\\trump copy.jpg: original 0\n",
      "11\n",
      "45.45454545454545\n"
     ]
    }
   ],
   "source": [
    "path = './Manual_Test_Images/forged/*.jpg'\n",
    "\n",
    "j = 0\n",
    "img = glob(path)\n",
    "\n",
    "for i in range(0, len(img)):\n",
    "    prediction = model.predict_classes([preprocess(img[i])])\n",
    "    print(img[i] + \": \" + CATEGORIES[prediction[0][0]] + ' ' + str(prediction[0][0]))\n",
    "    \n",
    "    if round(prediction[0][0]) == 1:\n",
    "        j += 1\n",
    "        \n",
    "print(len(img))\n",
    "print(j / len(img) * 100)"
   ]
  },
  {
   "cell_type": "code",
   "execution_count": null,
   "metadata": {},
   "outputs": [],
   "source": []
  },
  {
   "cell_type": "code",
   "execution_count": null,
   "metadata": {},
   "outputs": [],
   "source": []
  }
 ],
 "metadata": {
  "kernelspec": {
   "display_name": "Python 3",
   "language": "python",
   "name": "python3"
  },
  "language_info": {
   "codemirror_mode": {
    "name": "ipython",
    "version": 3
   },
   "file_extension": ".py",
   "mimetype": "text/x-python",
   "name": "python",
   "nbconvert_exporter": "python",
   "pygments_lexer": "ipython3",
   "version": "3.7.1"
  }
 },
 "nbformat": 4,
 "nbformat_minor": 2
}

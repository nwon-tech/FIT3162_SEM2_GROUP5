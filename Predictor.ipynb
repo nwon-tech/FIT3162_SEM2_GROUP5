{
 "cells": [
  {
   "cell_type": "code",
   "execution_count": 1,
   "metadata": {},
   "outputs": [],
   "source": [
    "import cv2\n",
    "import tensorflow as tf\n",
    "import numpy as np\n",
    "import math\n",
    "from glob import glob"
   ]
  },
  {
   "cell_type": "code",
   "execution_count": 2,
   "metadata": {},
   "outputs": [],
   "source": [
    "IMG_WIDTH = 224\n",
    "IMG_HEIGHT = 224\n",
    "NUM_CHANNELS = 3\n",
    "\n",
    "def preprocess(path):\n",
    "    img_array = cv2.imread(path)\n",
    "    new_array = cv2.resize(img_array, (IMG_WIDTH, IMG_HEIGHT))\n",
    "    b,g,r= cv2.split(new_array)\n",
    "    new_array = cv2.merge((r,g,b))\n",
    "    x = [new_array]    \n",
    "    x = np.array(x).reshape(-1, IMG_WIDTH, IMG_HEIGHT, NUM_CHANNELS) / 255\n",
    "    return x\n"
   ]
  },
  {
   "cell_type": "code",
   "execution_count": 3,
   "metadata": {},
   "outputs": [],
   "source": [
    "CATEGORIES = [\"original\", \"spliced\"]\n",
    "\n",
    "def predict_class(model, img):\n",
    "    prediction = model.predict(img)\n",
    "    label = int(round(prediction[0][0]))\n",
    "    \n",
    "    return CATEGORIES[label]\n"
   ]
  },
  {
   "cell_type": "code",
   "execution_count": 4,
   "metadata": {},
   "outputs": [
    {
     "name": "stdout",
     "output_type": "stream",
     "text": [
      "WARNING:tensorflow:From C:\\Users\\User\\Anaconda3\\lib\\site-packages\\tensorflow\\python\\ops\\resource_variable_ops.py:435: colocate_with (from tensorflow.python.framework.ops) is deprecated and will be removed in a future version.\n",
      "Instructions for updating:\n",
      "Colocations handled automatically by placer.\n",
      "WARNING:tensorflow:From C:\\Users\\User\\Anaconda3\\lib\\site-packages\\tensorflow\\python\\ops\\math_ops.py:3066: to_int32 (from tensorflow.python.ops.math_ops) is deprecated and will be removed in a future version.\n",
      "Instructions for updating:\n",
      "Use tf.cast instead.\n"
     ]
    }
   ],
   "source": [
    "model = tf.keras.models.load_model(\"Transfer_Model_52.h5\")"
   ]
  },
  {
   "cell_type": "code",
   "execution_count": 5,
   "metadata": {},
   "outputs": [
    {
     "data": {
      "text/plain": [
       "'spliced'"
      ]
     },
     "execution_count": 5,
     "metadata": {},
     "output_type": "execute_result"
    }
   ],
   "source": [
    "img = preprocess(\"./Manual_Test_Images/original/trump.jpg\")\n",
    "                 \n",
    "label = predict_class(model, img)\n",
    "\n",
    "label"
   ]
  },
  {
   "cell_type": "code",
   "execution_count": 6,
   "metadata": {
    "scrolled": true
   },
   "outputs": [
    {
     "name": "stdout",
     "output_type": "stream",
     "text": [
      "./Manual_Test_Images/original\\boy.jpg: spliced\n",
      "./Manual_Test_Images/original\\Broga Hill.JPG: spliced\n",
      "./Manual_Test_Images/original\\Dog.JPG: spliced\n",
      "./Manual_Test_Images/original\\flower.jpg: spliced\n",
      "./Manual_Test_Images/original\\fook.JPG: spliced\n",
      "./Manual_Test_Images/original\\lion.jpg: original\n",
      "./Manual_Test_Images/original\\logs.jpg: spliced\n",
      "./Manual_Test_Images/original\\marathon.jpg: spliced\n",
      "./Manual_Test_Images/original\\mike.jpg: spliced\n",
      "./Manual_Test_Images/original\\monash.jpg: spliced\n",
      "./Manual_Test_Images/original\\monkey.jpg: original\n",
      "./Manual_Test_Images/original\\Pepegas.jpg: spliced\n",
      "./Manual_Test_Images/original\\tiananmen square ori.jpg: original\n",
      "./Manual_Test_Images/original\\trump.jpg: spliced\n",
      "./Manual_Test_Images/original\\ulu area.JPG: spliced\n"
     ]
    }
   ],
   "source": [
    "path = './Manual_Test_Images/original/*.jpg'\n",
    "\n",
    "img = glob(path)\n",
    "\n",
    "for item in img:\n",
    "    image = preprocess(item)\n",
    "    label = predict_class(model, image)\n",
    "    print(item + \": \" + label)\n",
    "    "
   ]
  },
  {
   "cell_type": "code",
   "execution_count": 7,
   "metadata": {},
   "outputs": [
    {
     "name": "stdout",
     "output_type": "stream",
     "text": [
      "./Manual_Test_Images/spliced\\boy spliced.jpg: spliced\n",
      "./Manual_Test_Images/spliced\\lion spliced.jpg: original\n"
     ]
    }
   ],
   "source": [
    "path = './Manual_Test_Images/spliced/*.jpg'\n",
    "\n",
    "j = 0\n",
    "img = glob(path)\n",
    "\n",
    "for item in img:\n",
    "    image = preprocess(item)\n",
    "    label = predict_class(model, image)\n",
    "    print(item + \": \" + label)\n",
    "    "
   ]
  },
  {
   "cell_type": "code",
   "execution_count": 8,
   "metadata": {},
   "outputs": [
    {
     "name": "stdout",
     "output_type": "stream",
     "text": [
      "./Manual_Test_Images/copy\\Broga Hill copy.jpg: spliced\n",
      "./Manual_Test_Images/copy\\Cats.jpg: spliced\n",
      "./Manual_Test_Images/copy\\fook copy.jpg: spliced\n",
      "./Manual_Test_Images/copy\\henrik.jpg: spliced\n",
      "./Manual_Test_Images/copy\\lion copy.jpg: original\n",
      "./Manual_Test_Images/copy\\mike copy.jpg: spliced\n",
      "./Manual_Test_Images/copy\\monash copy.jpg: spliced\n",
      "./Manual_Test_Images/copy\\rockets.jpg: spliced\n",
      "./Manual_Test_Images/copy\\tiananmen square copy.jpg: original\n",
      "./Manual_Test_Images/copy\\tree.jpg: spliced\n",
      "./Manual_Test_Images/copy\\trump copy.jpg: spliced\n"
     ]
    }
   ],
   "source": [
    "path = './Manual_Test_Images/copy/*.jpg'\n",
    "\n",
    "j = 0\n",
    "img = glob(path)\n",
    "\n",
    "for item in img:\n",
    "    image = preprocess(item)\n",
    "    label = predict_class(model, image)\n",
    "    print(item + \": \" + label)\n",
    "    "
   ]
  },
  {
   "cell_type": "code",
   "execution_count": 9,
   "metadata": {},
   "outputs": [
    {
     "name": "stdout",
     "output_type": "stream",
     "text": [
      "92.375\n"
     ]
    }
   ],
   "source": [
    "path = './dataset/CASIA1/original/*.jpg'\n",
    "\n",
    "j = 0\n",
    "img = glob(path)\n",
    "count = 0\n",
    "\n",
    "for item in img:\n",
    "    image = preprocess(item)\n",
    "    label = predict_class(model, image)\n",
    "    \n",
    "    if label == 'original':\n",
    "        count += 1\n",
    "\n",
    "print(count/len(img) * 100)"
   ]
  },
  {
   "cell_type": "code",
   "execution_count": 10,
   "metadata": {},
   "outputs": [
    {
     "name": "stdout",
     "output_type": "stream",
     "text": [
      "33.11617806731813\n"
     ]
    }
   ],
   "source": [
    "path = './dataset/CASIA1/spliced/*.jpg'\n",
    "\n",
    "j = 0\n",
    "img = glob(path)\n",
    "count = 0\n",
    "\n",
    "for item in img:\n",
    "    image = preprocess(item)\n",
    "    label = predict_class(model, image)\n",
    "    \n",
    "    if label == 'spliced':\n",
    "        count += 1\n",
    "\n",
    "print(count/len(img) * 100)"
   ]
  },
  {
   "cell_type": "code",
   "execution_count": null,
   "metadata": {},
   "outputs": [],
   "source": []
  },
  {
   "cell_type": "code",
   "execution_count": null,
   "metadata": {},
   "outputs": [],
   "source": []
  },
  {
   "cell_type": "code",
   "execution_count": null,
   "metadata": {},
   "outputs": [],
   "source": []
  }
 ],
 "metadata": {
  "kernelspec": {
   "display_name": "Python 3",
   "language": "python",
   "name": "python3"
  },
  "language_info": {
   "codemirror_mode": {
    "name": "ipython",
    "version": 3
   },
   "file_extension": ".py",
   "mimetype": "text/x-python",
   "name": "python",
   "nbconvert_exporter": "python",
   "pygments_lexer": "ipython3",
   "version": "3.7.1"
  }
 },
 "nbformat": 4,
 "nbformat_minor": 2
}
